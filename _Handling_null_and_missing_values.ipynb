{
  "nbformat": 4,
  "nbformat_minor": 0,
  "metadata": {
    "colab": {
      "provenance": [],
      "authorship_tag": "ABX9TyMKCUs02/y9uA9wUCxOtry1",
      "include_colab_link": true
    },
    "kernelspec": {
      "name": "python3",
      "display_name": "Python 3"
    },
    "language_info": {
      "name": "python"
    }
  },
  "cells": [
    {
      "cell_type": "markdown",
      "metadata": {
        "id": "view-in-github",
        "colab_type": "text"
      },
      "source": [
        "<a href=\"https://colab.research.google.com/github/sakshitiwari1234/Data-Science-/blob/main/_Handling_null_and_missing_values.ipynb\" target=\"_parent\"><img src=\"https://colab.research.google.com/assets/colab-badge.svg\" alt=\"Open In Colab\"/></a>"
      ]
    },
    {
      "cell_type": "markdown",
      "source": [
        "# Handling NULL and missing value in Data SEt"
      ],
      "metadata": {
        "id": "bxpA0FPSl5Wu"
      }
    },
    {
      "cell_type": "markdown",
      "source": [
        " It is essential to address missing values efficiently to ensure strong and impartial results in your machine-learning projects. In this article, we will see How to Handle Missing Values in Datasets in Machine Learning.\n",
        " Missing values are data points that are absent for a specific variable in a dataset. They can be represented in various ways, such as blank cells, null values, or special symbols like “NA” or “unknown.” These missing data points pose a significant challenge in data analysis and can lead to inaccurate or biased results.\n",
        "\n",
        " Reduce the sample size: This can decrease the accuracy and reliability of your analysis.\n",
        "Introduce bias: If the missing data is not handled properly, it can bias the results of your analysis.\n",
        "Make it difficult to perform certain analyses: Some statistical techniques require complete data for all variables, making them inapplicable when missing values are present\n",
        "\n"
      ],
      "metadata": {
        "id": "sFE_6jRFmCgt"
      }
    },
    {
      "cell_type": "markdown",
      "source": [
        "There are three main types of missing values:\n",
        "\n",
        "1. Missing completely at random (MCAR)\n",
        "\n",
        "    probability of mising of any data i completeyl at random and nothing to do with another variable\n",
        "2. missing at random(MAR)\n",
        "\n",
        "   it means that the probability of a data point mising depends on the another variable in the dataset, but not missing variable itself, it can be predicted based on avaialabel inforation in the dataset.\n",
        "3. Missing not at random(MNAR)\n",
        "\n",
        "   \n",
        "   it is the most challenging one as , it means that the probabiliy of a mising values dpeends on the msiing value itelf. it means that reson for data mising is informative and directly associated with the variable that is missing itslef.\n",
        "   "
      ],
      "metadata": {
        "id": "MvWtFKPNmT-U"
      }
    },
    {
      "cell_type": "code",
      "source": [],
      "metadata": {
        "id": "dXkbDUUbl_xj"
      },
      "execution_count": null,
      "outputs": []
    },
    {
      "cell_type": "markdown",
      "source": [
        "## methos for identifying missing data"
      ],
      "metadata": {
        "id": "FBMQRwACpYvt"
      }
    },
    {
      "cell_type": "markdown",
      "source": [
        ".isnull()\n",
        "identifie missing values in a dataframe\n",
        "\n",
        ".notnull()\n",
        "return boolean expresion for mising and not missing value\n",
        "\n",
        ".info()\n",
        "displays information about dataframe ,  such as inclduing datatype, memory usage , nd presence of missing values.\n",
        "\n",
        ".isna()\n",
        "return true for missing value and fasle for not missing values"
      ],
      "metadata": {
        "id": "2ehyMUydpfSd"
      }
    },
    {
      "cell_type": "markdown",
      "source": [
        "## strategies to handle missing values"
      ],
      "metadata": {
        "id": "G1EVWenRqJ4c"
      }
    },
    {
      "cell_type": "code",
      "source": [
        "import pandas as pd\n",
        "import numpy as np\n",
        "\n",
        "# Creating a sample DataFrame with missing values\n",
        "data = {\n",
        "\t'School ID': [101, 102, 103, np.nan, 105, 106, 107, 108],\n",
        "\t'Name': ['Alice', 'Bob', 'Charlie', 'David', 'Eva', 'Frank', 'Grace', 'Henry'],\n",
        "\t'Address': ['123 Main St', '456 Oak Ave', '789 Pine Ln', '101 Elm St', np.nan, '222 Maple Rd', '444 Cedar Blvd', '555 Birch Dr'],\n",
        "\t'City': ['Los Angeles', 'New York', 'Houston', 'Los Angeles', 'Miami', np.nan, 'Houston', 'New York'],\n",
        "\t'Subject': ['Math', 'English', 'Science', 'Math', 'History', 'Math', 'Science', 'English'],\n",
        "\t'Marks': [85, 92, 78, 89, np.nan, 95, 80, 88],\n",
        "\t'Rank': [2, 1, 4, 3, 8, 1, 5, 3],\n",
        "\t'Grade': ['B', 'A', 'C', 'B', 'D', 'A', 'C', 'B']\n",
        "}\n",
        "\n",
        "df = pd.DataFrame(data)\n",
        "print(\"Sample DataFrame:\")\n",
        "\n",
        "print(df)\n"
      ],
      "metadata": {
        "colab": {
          "base_uri": "https://localhost:8080/"
        },
        "id": "HnwywLK9peHv",
        "outputId": "ba3a497c-1084-4907-bf43-1068f6d04ef7"
      },
      "execution_count": 1,
      "outputs": [
        {
          "output_type": "stream",
          "name": "stdout",
          "text": [
            "Sample DataFrame:\n",
            "   School ID     Name         Address         City  Subject  Marks  Rank Grade\n",
            "0      101.0    Alice     123 Main St  Los Angeles     Math   85.0     2     B\n",
            "1      102.0      Bob     456 Oak Ave     New York  English   92.0     1     A\n",
            "2      103.0  Charlie     789 Pine Ln      Houston  Science   78.0     4     C\n",
            "3        NaN    David      101 Elm St  Los Angeles     Math   89.0     3     B\n",
            "4      105.0      Eva             NaN        Miami  History    NaN     8     D\n",
            "5      106.0    Frank    222 Maple Rd          NaN     Math   95.0     1     A\n",
            "6      107.0    Grace  444 Cedar Blvd      Houston  Science   80.0     5     C\n",
            "7      108.0    Henry    555 Birch Dr     New York  English   88.0     3     B\n"
          ]
        }
      ]
    },
    {
      "cell_type": "code",
      "source": [
        "df_cleaned = df.dropna()\n",
        "# // removing rows with missing values\n",
        "\n",
        "print(\"dataset ater removing rows with mising values\")\n",
        "print(df_cleaned)\n"
      ],
      "metadata": {
        "colab": {
          "base_uri": "https://localhost:8080/"
        },
        "id": "hVlapH0crLEB",
        "outputId": "ea210b49-7619-4b9e-83f8-4e7b1e871a94"
      },
      "execution_count": 2,
      "outputs": [
        {
          "output_type": "stream",
          "name": "stdout",
          "text": [
            "dataset ater removing rows with mising values\n",
            "   School ID     Name         Address         City  Subject  Marks  Rank Grade\n",
            "0      101.0    Alice     123 Main St  Los Angeles     Math   85.0     2     B\n",
            "1      102.0      Bob     456 Oak Ave     New York  English   92.0     1     A\n",
            "2      103.0  Charlie     789 Pine Ln      Houston  Science   78.0     4     C\n",
            "6      107.0    Grace  444 Cedar Blvd      Houston  Science   80.0     5     C\n",
            "7      108.0    Henry    555 Birch Dr     New York  English   88.0     3     B\n"
          ]
        }
      ]
    },
    {
      "cell_type": "code",
      "source": [
        "display(df_cleaned)"
      ],
      "metadata": {
        "colab": {
          "base_uri": "https://localhost:8080/",
          "height": 206
        },
        "id": "DQU1TbasrweZ",
        "outputId": "a5d0cdac-c12a-4ed6-d7e8-70728c2d5d38"
      },
      "execution_count": 3,
      "outputs": [
        {
          "output_type": "display_data",
          "data": {
            "text/plain": [
              "   School ID     Name         Address         City  Subject  Marks  Rank Grade\n",
              "0      101.0    Alice     123 Main St  Los Angeles     Math   85.0     2     B\n",
              "1      102.0      Bob     456 Oak Ave     New York  English   92.0     1     A\n",
              "2      103.0  Charlie     789 Pine Ln      Houston  Science   78.0     4     C\n",
              "6      107.0    Grace  444 Cedar Blvd      Houston  Science   80.0     5     C\n",
              "7      108.0    Henry    555 Birch Dr     New York  English   88.0     3     B"
            ],
            "text/html": [
              "\n",
              "  <div id=\"df-c19150db-be6e-4e9b-9672-9a6a2fe16d96\" class=\"colab-df-container\">\n",
              "    <div>\n",
              "<style scoped>\n",
              "    .dataframe tbody tr th:only-of-type {\n",
              "        vertical-align: middle;\n",
              "    }\n",
              "\n",
              "    .dataframe tbody tr th {\n",
              "        vertical-align: top;\n",
              "    }\n",
              "\n",
              "    .dataframe thead th {\n",
              "        text-align: right;\n",
              "    }\n",
              "</style>\n",
              "<table border=\"1\" class=\"dataframe\">\n",
              "  <thead>\n",
              "    <tr style=\"text-align: right;\">\n",
              "      <th></th>\n",
              "      <th>School ID</th>\n",
              "      <th>Name</th>\n",
              "      <th>Address</th>\n",
              "      <th>City</th>\n",
              "      <th>Subject</th>\n",
              "      <th>Marks</th>\n",
              "      <th>Rank</th>\n",
              "      <th>Grade</th>\n",
              "    </tr>\n",
              "  </thead>\n",
              "  <tbody>\n",
              "    <tr>\n",
              "      <th>0</th>\n",
              "      <td>101.0</td>\n",
              "      <td>Alice</td>\n",
              "      <td>123 Main St</td>\n",
              "      <td>Los Angeles</td>\n",
              "      <td>Math</td>\n",
              "      <td>85.0</td>\n",
              "      <td>2</td>\n",
              "      <td>B</td>\n",
              "    </tr>\n",
              "    <tr>\n",
              "      <th>1</th>\n",
              "      <td>102.0</td>\n",
              "      <td>Bob</td>\n",
              "      <td>456 Oak Ave</td>\n",
              "      <td>New York</td>\n",
              "      <td>English</td>\n",
              "      <td>92.0</td>\n",
              "      <td>1</td>\n",
              "      <td>A</td>\n",
              "    </tr>\n",
              "    <tr>\n",
              "      <th>2</th>\n",
              "      <td>103.0</td>\n",
              "      <td>Charlie</td>\n",
              "      <td>789 Pine Ln</td>\n",
              "      <td>Houston</td>\n",
              "      <td>Science</td>\n",
              "      <td>78.0</td>\n",
              "      <td>4</td>\n",
              "      <td>C</td>\n",
              "    </tr>\n",
              "    <tr>\n",
              "      <th>6</th>\n",
              "      <td>107.0</td>\n",
              "      <td>Grace</td>\n",
              "      <td>444 Cedar Blvd</td>\n",
              "      <td>Houston</td>\n",
              "      <td>Science</td>\n",
              "      <td>80.0</td>\n",
              "      <td>5</td>\n",
              "      <td>C</td>\n",
              "    </tr>\n",
              "    <tr>\n",
              "      <th>7</th>\n",
              "      <td>108.0</td>\n",
              "      <td>Henry</td>\n",
              "      <td>555 Birch Dr</td>\n",
              "      <td>New York</td>\n",
              "      <td>English</td>\n",
              "      <td>88.0</td>\n",
              "      <td>3</td>\n",
              "      <td>B</td>\n",
              "    </tr>\n",
              "  </tbody>\n",
              "</table>\n",
              "</div>\n",
              "    <div class=\"colab-df-buttons\">\n",
              "\n",
              "  <div class=\"colab-df-container\">\n",
              "    <button class=\"colab-df-convert\" onclick=\"convertToInteractive('df-c19150db-be6e-4e9b-9672-9a6a2fe16d96')\"\n",
              "            title=\"Convert this dataframe to an interactive table.\"\n",
              "            style=\"display:none;\">\n",
              "\n",
              "  <svg xmlns=\"http://www.w3.org/2000/svg\" height=\"24px\" viewBox=\"0 -960 960 960\">\n",
              "    <path d=\"M120-120v-720h720v720H120Zm60-500h600v-160H180v160Zm220 220h160v-160H400v160Zm0 220h160v-160H400v160ZM180-400h160v-160H180v160Zm440 0h160v-160H620v160ZM180-180h160v-160H180v160Zm440 0h160v-160H620v160Z\"/>\n",
              "  </svg>\n",
              "    </button>\n",
              "\n",
              "  <style>\n",
              "    .colab-df-container {\n",
              "      display:flex;\n",
              "      gap: 12px;\n",
              "    }\n",
              "\n",
              "    .colab-df-convert {\n",
              "      background-color: #E8F0FE;\n",
              "      border: none;\n",
              "      border-radius: 50%;\n",
              "      cursor: pointer;\n",
              "      display: none;\n",
              "      fill: #1967D2;\n",
              "      height: 32px;\n",
              "      padding: 0 0 0 0;\n",
              "      width: 32px;\n",
              "    }\n",
              "\n",
              "    .colab-df-convert:hover {\n",
              "      background-color: #E2EBFA;\n",
              "      box-shadow: 0px 1px 2px rgba(60, 64, 67, 0.3), 0px 1px 3px 1px rgba(60, 64, 67, 0.15);\n",
              "      fill: #174EA6;\n",
              "    }\n",
              "\n",
              "    .colab-df-buttons div {\n",
              "      margin-bottom: 4px;\n",
              "    }\n",
              "\n",
              "    [theme=dark] .colab-df-convert {\n",
              "      background-color: #3B4455;\n",
              "      fill: #D2E3FC;\n",
              "    }\n",
              "\n",
              "    [theme=dark] .colab-df-convert:hover {\n",
              "      background-color: #434B5C;\n",
              "      box-shadow: 0px 1px 3px 1px rgba(0, 0, 0, 0.15);\n",
              "      filter: drop-shadow(0px 1px 2px rgba(0, 0, 0, 0.3));\n",
              "      fill: #FFFFFF;\n",
              "    }\n",
              "  </style>\n",
              "\n",
              "    <script>\n",
              "      const buttonEl =\n",
              "        document.querySelector('#df-c19150db-be6e-4e9b-9672-9a6a2fe16d96 button.colab-df-convert');\n",
              "      buttonEl.style.display =\n",
              "        google.colab.kernel.accessAllowed ? 'block' : 'none';\n",
              "\n",
              "      async function convertToInteractive(key) {\n",
              "        const element = document.querySelector('#df-c19150db-be6e-4e9b-9672-9a6a2fe16d96');\n",
              "        const dataTable =\n",
              "          await google.colab.kernel.invokeFunction('convertToInteractive',\n",
              "                                                    [key], {});\n",
              "        if (!dataTable) return;\n",
              "\n",
              "        const docLinkHtml = 'Like what you see? Visit the ' +\n",
              "          '<a target=\"_blank\" href=https://colab.research.google.com/notebooks/data_table.ipynb>data table notebook</a>'\n",
              "          + ' to learn more about interactive tables.';\n",
              "        element.innerHTML = '';\n",
              "        dataTable['output_type'] = 'display_data';\n",
              "        await google.colab.output.renderOutput(dataTable, element);\n",
              "        const docLink = document.createElement('div');\n",
              "        docLink.innerHTML = docLinkHtml;\n",
              "        element.appendChild(docLink);\n",
              "      }\n",
              "    </script>\n",
              "  </div>\n",
              "\n",
              "\n",
              "<div id=\"df-5fc94ed6-c374-4cf9-af72-5c45c1b903e8\">\n",
              "  <button class=\"colab-df-quickchart\" onclick=\"quickchart('df-5fc94ed6-c374-4cf9-af72-5c45c1b903e8')\"\n",
              "            title=\"Suggest charts\"\n",
              "            style=\"display:none;\">\n",
              "\n",
              "<svg xmlns=\"http://www.w3.org/2000/svg\" height=\"24px\"viewBox=\"0 0 24 24\"\n",
              "     width=\"24px\">\n",
              "    <g>\n",
              "        <path d=\"M19 3H5c-1.1 0-2 .9-2 2v14c0 1.1.9 2 2 2h14c1.1 0 2-.9 2-2V5c0-1.1-.9-2-2-2zM9 17H7v-7h2v7zm4 0h-2V7h2v10zm4 0h-2v-4h2v4z\"/>\n",
              "    </g>\n",
              "</svg>\n",
              "  </button>\n",
              "\n",
              "<style>\n",
              "  .colab-df-quickchart {\n",
              "      --bg-color: #E8F0FE;\n",
              "      --fill-color: #1967D2;\n",
              "      --hover-bg-color: #E2EBFA;\n",
              "      --hover-fill-color: #174EA6;\n",
              "      --disabled-fill-color: #AAA;\n",
              "      --disabled-bg-color: #DDD;\n",
              "  }\n",
              "\n",
              "  [theme=dark] .colab-df-quickchart {\n",
              "      --bg-color: #3B4455;\n",
              "      --fill-color: #D2E3FC;\n",
              "      --hover-bg-color: #434B5C;\n",
              "      --hover-fill-color: #FFFFFF;\n",
              "      --disabled-bg-color: #3B4455;\n",
              "      --disabled-fill-color: #666;\n",
              "  }\n",
              "\n",
              "  .colab-df-quickchart {\n",
              "    background-color: var(--bg-color);\n",
              "    border: none;\n",
              "    border-radius: 50%;\n",
              "    cursor: pointer;\n",
              "    display: none;\n",
              "    fill: var(--fill-color);\n",
              "    height: 32px;\n",
              "    padding: 0;\n",
              "    width: 32px;\n",
              "  }\n",
              "\n",
              "  .colab-df-quickchart:hover {\n",
              "    background-color: var(--hover-bg-color);\n",
              "    box-shadow: 0 1px 2px rgba(60, 64, 67, 0.3), 0 1px 3px 1px rgba(60, 64, 67, 0.15);\n",
              "    fill: var(--button-hover-fill-color);\n",
              "  }\n",
              "\n",
              "  .colab-df-quickchart-complete:disabled,\n",
              "  .colab-df-quickchart-complete:disabled:hover {\n",
              "    background-color: var(--disabled-bg-color);\n",
              "    fill: var(--disabled-fill-color);\n",
              "    box-shadow: none;\n",
              "  }\n",
              "\n",
              "  .colab-df-spinner {\n",
              "    border: 2px solid var(--fill-color);\n",
              "    border-color: transparent;\n",
              "    border-bottom-color: var(--fill-color);\n",
              "    animation:\n",
              "      spin 1s steps(1) infinite;\n",
              "  }\n",
              "\n",
              "  @keyframes spin {\n",
              "    0% {\n",
              "      border-color: transparent;\n",
              "      border-bottom-color: var(--fill-color);\n",
              "      border-left-color: var(--fill-color);\n",
              "    }\n",
              "    20% {\n",
              "      border-color: transparent;\n",
              "      border-left-color: var(--fill-color);\n",
              "      border-top-color: var(--fill-color);\n",
              "    }\n",
              "    30% {\n",
              "      border-color: transparent;\n",
              "      border-left-color: var(--fill-color);\n",
              "      border-top-color: var(--fill-color);\n",
              "      border-right-color: var(--fill-color);\n",
              "    }\n",
              "    40% {\n",
              "      border-color: transparent;\n",
              "      border-right-color: var(--fill-color);\n",
              "      border-top-color: var(--fill-color);\n",
              "    }\n",
              "    60% {\n",
              "      border-color: transparent;\n",
              "      border-right-color: var(--fill-color);\n",
              "    }\n",
              "    80% {\n",
              "      border-color: transparent;\n",
              "      border-right-color: var(--fill-color);\n",
              "      border-bottom-color: var(--fill-color);\n",
              "    }\n",
              "    90% {\n",
              "      border-color: transparent;\n",
              "      border-bottom-color: var(--fill-color);\n",
              "    }\n",
              "  }\n",
              "</style>\n",
              "\n",
              "  <script>\n",
              "    async function quickchart(key) {\n",
              "      const quickchartButtonEl =\n",
              "        document.querySelector('#' + key + ' button');\n",
              "      quickchartButtonEl.disabled = true;  // To prevent multiple clicks.\n",
              "      quickchartButtonEl.classList.add('colab-df-spinner');\n",
              "      try {\n",
              "        const charts = await google.colab.kernel.invokeFunction(\n",
              "            'suggestCharts', [key], {});\n",
              "      } catch (error) {\n",
              "        console.error('Error during call to suggestCharts:', error);\n",
              "      }\n",
              "      quickchartButtonEl.classList.remove('colab-df-spinner');\n",
              "      quickchartButtonEl.classList.add('colab-df-quickchart-complete');\n",
              "    }\n",
              "    (() => {\n",
              "      let quickchartButtonEl =\n",
              "        document.querySelector('#df-5fc94ed6-c374-4cf9-af72-5c45c1b903e8 button');\n",
              "      quickchartButtonEl.style.display =\n",
              "        google.colab.kernel.accessAllowed ? 'block' : 'none';\n",
              "    })();\n",
              "  </script>\n",
              "</div>\n",
              "    </div>\n",
              "  </div>\n"
            ],
            "application/vnd.google.colaboratory.intrinsic+json": {
              "type": "dataframe",
              "variable_name": "df_cleaned",
              "summary": "{\n  \"name\": \"df_cleaned\",\n  \"rows\": 5,\n  \"fields\": [\n    {\n      \"column\": \"School ID\",\n      \"properties\": {\n        \"dtype\": \"number\",\n        \"std\": 3.1144823004794873,\n        \"min\": 101.0,\n        \"max\": 108.0,\n        \"num_unique_values\": 5,\n        \"samples\": [\n          102.0,\n          108.0,\n          103.0\n        ],\n        \"semantic_type\": \"\",\n        \"description\": \"\"\n      }\n    },\n    {\n      \"column\": \"Name\",\n      \"properties\": {\n        \"dtype\": \"string\",\n        \"num_unique_values\": 5,\n        \"samples\": [\n          \"Bob\",\n          \"Henry\",\n          \"Charlie\"\n        ],\n        \"semantic_type\": \"\",\n        \"description\": \"\"\n      }\n    },\n    {\n      \"column\": \"Address\",\n      \"properties\": {\n        \"dtype\": \"string\",\n        \"num_unique_values\": 5,\n        \"samples\": [\n          \"456 Oak Ave\",\n          \"555 Birch Dr\",\n          \"789 Pine Ln\"\n        ],\n        \"semantic_type\": \"\",\n        \"description\": \"\"\n      }\n    },\n    {\n      \"column\": \"City\",\n      \"properties\": {\n        \"dtype\": \"string\",\n        \"num_unique_values\": 3,\n        \"samples\": [\n          \"Los Angeles\",\n          \"New York\",\n          \"Houston\"\n        ],\n        \"semantic_type\": \"\",\n        \"description\": \"\"\n      }\n    },\n    {\n      \"column\": \"Subject\",\n      \"properties\": {\n        \"dtype\": \"string\",\n        \"num_unique_values\": 3,\n        \"samples\": [\n          \"Math\",\n          \"English\",\n          \"Science\"\n        ],\n        \"semantic_type\": \"\",\n        \"description\": \"\"\n      }\n    },\n    {\n      \"column\": \"Marks\",\n      \"properties\": {\n        \"dtype\": \"number\",\n        \"std\": 5.727128425310541,\n        \"min\": 78.0,\n        \"max\": 92.0,\n        \"num_unique_values\": 5,\n        \"samples\": [\n          92.0,\n          88.0,\n          78.0\n        ],\n        \"semantic_type\": \"\",\n        \"description\": \"\"\n      }\n    },\n    {\n      \"column\": \"Rank\",\n      \"properties\": {\n        \"dtype\": \"number\",\n        \"std\": 1,\n        \"min\": 1,\n        \"max\": 5,\n        \"num_unique_values\": 5,\n        \"samples\": [\n          1,\n          3,\n          4\n        ],\n        \"semantic_type\": \"\",\n        \"description\": \"\"\n      }\n    },\n    {\n      \"column\": \"Grade\",\n      \"properties\": {\n        \"dtype\": \"string\",\n        \"num_unique_values\": 3,\n        \"samples\": [\n          \"B\",\n          \"A\",\n          \"C\"\n        ],\n        \"semantic_type\": \"\",\n        \"description\": \"\"\n      }\n    }\n  ]\n}"
            }
          },
          "metadata": {}
        }
      ]
    },
    {
      "source": [
        "# @title School ID\n",
        "\n",
        "from matplotlib import pyplot as plt\n",
        "df_cleaned['School ID'].plot(kind='hist', bins=20, title='School ID')\n",
        "plt.gca().spines[['top', 'right',]].set_visible(False)"
      ],
      "cell_type": "code",
      "execution_count": 4,
      "outputs": [
        {
          "output_type": "display_data",
          "data": {
            "text/plain": [
              "<Figure size 640x480 with 1 Axes>"
            ],
            "image/png": "[encoded data removed]"
          },
          "metadata": {}
        }
      ],
      "metadata": {
        "cellView": "form",
        "colab": {
          "base_uri": "https://localhost:8080/",
          "height": 452
        },
        "id": "L038UrqBts-Z",
        "outputId": "8cdd0ab3-ab15-4d28-f48c-b4eaac77d1dc"
      }
    },
    {
      "cell_type": "code",
      "source": [
        "import pandas as pd\n",
        "import numpy as np\n",
        "\n",
        "# Creating a sample DataFrame with missing values\n",
        "data = {\n",
        "\t'School ID': [101, 102, 103, np.nan, 105, 106, 107, 108],\n",
        "\t'Name': ['Alice', 'Bob', 'Charlie', 'David', 'Eva', 'Frank', 'Grace', 'Henry'],\n",
        "\t'Address': ['123 Main St', '456 Oak Ave', '789 Pine Ln', '101 Elm St', np.nan, '222 Maple Rd', '444 Cedar Blvd', '555 Birch Dr'],\n",
        "\t'City': ['Los Angeles', 'New York', 'Houston', 'Los Angeles', 'Miami', np.nan, 'Houston', 'New York'],\n",
        "\t'Subject': ['Math', 'English', 'Science', 'Math', 'History', 'Math', 'Science', 'English'],\n",
        "\t'Marks': [85, 92, 78, 89, np.nan, 95, 80, 88],\n",
        "\t'Rank': [2, 1, 4, 3, 8, 1, 5, 3],\n",
        "\t'Grade': ['B', 'A', 'C', 'B', 'D', 'A', 'C', 'B']\n",
        "}\n",
        "\n",
        "df = pd.DataFrame(data)\n",
        "print(\"Sample DataFrame:\")\n",
        "\n",
        "print(df)\n"
      ],
      "metadata": {
        "colab": {
          "base_uri": "https://localhost:8080/"
        },
        "id": "bd9feEJ-rzj3",
        "outputId": "5a0f8c2f-12ac-4b37-e8f3-6c04b84a217e"
      },
      "execution_count": 5,
      "outputs": [
        {
          "output_type": "stream",
          "name": "stdout",
          "text": [
            "Sample DataFrame:\n",
            "   School ID     Name         Address         City  Subject  Marks  Rank Grade\n",
            "0      101.0    Alice     123 Main St  Los Angeles     Math   85.0     2     B\n",
            "1      102.0      Bob     456 Oak Ave     New York  English   92.0     1     A\n",
            "2      103.0  Charlie     789 Pine Ln      Houston  Science   78.0     4     C\n",
            "3        NaN    David      101 Elm St  Los Angeles     Math   89.0     3     B\n",
            "4      105.0      Eva             NaN        Miami  History    NaN     8     D\n",
            "5      106.0    Frank    222 Maple Rd          NaN     Math   95.0     1     A\n",
            "6      107.0    Grace  444 Cedar Blvd      Houston  Science   80.0     5     C\n",
            "7      108.0    Henry    555 Birch Dr     New York  English   88.0     3     B\n"
          ]
        }
      ]
    },
    {
      "cell_type": "code",
      "source": [
        "mean_fill = df['Marks'].fillna(df['Marks'].mean())\n",
        "medain_fill = df['Marks'].fillna(df['Marks'].median())\n",
        "mode_fill = df['Marks'].fillna(df['Marks'].mode().iloc[0])\n",
        "\n",
        "print( mean_fill)\n",
        "print(medain_fill)\n",
        "print(mode_fill)"
      ],
      "metadata": {
        "colab": {
          "base_uri": "https://localhost:8080/"
        },
        "id": "dRoNxbqkt4LG",
        "outputId": "3a47e338-359f-43ee-c88b-8e90d30711bf"
      },
      "execution_count": 9,
      "outputs": [
        {
          "output_type": "stream",
          "name": "stdout",
          "text": [
            "0    85.000000\n",
            "1    92.000000\n",
            "2    78.000000\n",
            "3    89.000000\n",
            "4    86.714286\n",
            "5    95.000000\n",
            "6    80.000000\n",
            "7    88.000000\n",
            "Name: Marks, dtype: float64\n",
            "0    85.0\n",
            "1    92.0\n",
            "2    78.0\n",
            "3    89.0\n",
            "4    88.0\n",
            "5    95.0\n",
            "6    80.0\n",
            "7    88.0\n",
            "Name: Marks, dtype: float64\n",
            "0    85.0\n",
            "1    92.0\n",
            "2    78.0\n",
            "3    89.0\n",
            "4    78.0\n",
            "5    95.0\n",
            "6    80.0\n",
            "7    88.0\n",
            "Name: Marks, dtype: float64\n"
          ]
        }
      ]
    },
    {
      "cell_type": "code",
      "source": [
        "forward_fll= df['Marks'].fillna(method = 'ffill')\n",
        "backward_fill = df['Marks'].fillna(method = 'bfill')\n",
        "\n",
        "print(forward_fll)\n",
        "print(backward_fill)"
      ],
      "metadata": {
        "colab": {
          "base_uri": "https://localhost:8080/"
        },
        "id": "ATY08eFRuKeg",
        "outputId": "1527a00a-17ca-4501-f4e6-3e9e5038f05c"
      },
      "execution_count": 12,
      "outputs": [
        {
          "output_type": "stream",
          "name": "stdout",
          "text": [
            "0    85.0\n",
            "1    92.0\n",
            "2    78.0\n",
            "3    89.0\n",
            "4    89.0\n",
            "5    95.0\n",
            "6    80.0\n",
            "7    88.0\n",
            "Name: Marks, dtype: float64\n",
            "0    85.0\n",
            "1    92.0\n",
            "2    78.0\n",
            "3    89.0\n",
            "4    95.0\n",
            "5    95.0\n",
            "6    80.0\n",
            "7    88.0\n",
            "Name: Marks, dtype: float64\n"
          ]
        }
      ]
    },
    {
      "cell_type": "markdown",
      "source": [
        "## 3. interpolation technique"
      ],
      "metadata": {
        "id": "M9_V8rk3v5di"
      }
    },
    {
      "cell_type": "markdown",
      "source": [
        "Estimate missing values based on surrounding data points using techniques like linear interpolation or spline interpolation.\n",
        "More sophisticated than mean/median imputation: Captures relationships between variables.\n",
        "Requires additional libraries and computational resources.\n",
        "\n",
        "\n",
        "These interpolation techniques are useful when the relationship between data points can be reasonably assumed to follow a linear or quadratic pattern. The method parameter in the interpolate() method allows to specify the interpolation strategy."
      ],
      "metadata": {
        "id": "Wd-13Vqtyef9"
      }
    },
    {
      "cell_type": "code",
      "source": [
        "# Interpolation Techniques\n",
        "linear_interpolation = df['Marks'].interpolate(method='linear')\n",
        "quadratic_interpolation = df['Marks'].interpolate(method='quadratic')\n",
        "\n",
        "print(\"\\nLinear Interpolation:\")\n",
        "print(linear_interpolation)\n",
        "\n",
        "print(\"\\nQuadratic Interpolation:\")\n",
        "print(quadratic_interpolation)\n"
      ],
      "metadata": {
        "colab": {
          "base_uri": "https://localhost:8080/"
        },
        "id": "aia9U2tJvlab",
        "outputId": "0b629cdc-c03a-4fc6-afa5-67aa75ffca7f"
      },
      "execution_count": 13,
      "outputs": [
        {
          "output_type": "stream",
          "name": "stdout",
          "text": [
            "\n",
            "Linear Interpolation:\n",
            "0    85.0\n",
            "1    92.0\n",
            "2    78.0\n",
            "3    89.0\n",
            "4    92.0\n",
            "5    95.0\n",
            "6    80.0\n",
            "7    88.0\n",
            "Name: Marks, dtype: float64\n",
            "\n",
            "Quadratic Interpolation:\n",
            "0    85.00000\n",
            "1    92.00000\n",
            "2    78.00000\n",
            "3    89.00000\n",
            "4    98.28024\n",
            "5    95.00000\n",
            "6    80.00000\n",
            "7    88.00000\n",
            "Name: Marks, dtype: float64\n"
          ]
        }
      ]
    },
    {
      "cell_type": "code",
      "source": [],
      "metadata": {
        "id": "PbGoEV0Jyv2b"
      },
      "execution_count": null,
      "outputs": []
    }
  ]
}