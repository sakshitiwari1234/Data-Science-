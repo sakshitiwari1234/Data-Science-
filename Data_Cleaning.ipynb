{
  "nbformat": 4,
  "nbformat_minor": 0,
  "metadata": {
    "colab": {
      "provenance": [],
      "authorship_tag": "ABX9TyMMQTt4uACbForJAygo9l/O",
      "include_colab_link": true
    },
    "kernelspec": {
      "name": "python3",
      "display_name": "Python 3"
    },
    "language_info": {
      "name": "python"
    }
  },
  "cells": [
    {
      "cell_type": "markdown",
      "metadata": {
        "id": "view-in-github",
        "colab_type": "text"
      },
      "source": [
        "<a href=\"https://colab.research.google.com/github/sakshitiwari1234/Data-Science-/blob/main/Data_Cleaning.ipynb\" target=\"_parent\"><img src=\"https://colab.research.google.com/assets/colab-badge.svg\" alt=\"Open In Colab\"/></a>"
      ]
    },
    {
      "cell_type": "markdown",
      "source": [
        "Data_Cleaning"
      ],
      "metadata": {
        "id": "ELJ9yHqVnVvt"
      }
    },
    {
      "cell_type": "markdown",
      "source": [
        "Data cleaning includes proccesses such as filling in missing values and handling inconsistencies. It detect corrupts data and replaces or modiefies it."
      ],
      "metadata": {
        "id": "a5BTCmBjniyL"
      }
    },
    {
      "cell_type": "markdown",
      "source": [
        "Missing Values.\n",
        "\n",
        "if there is any missing value or undefined value in any row or columnn, whtehr any of the cell is empty or putting in Nan. It is crucial to handle the null and empty data in a dataset.\n"
      ],
      "metadata": {
        "id": "6E3oGOKLn1_5"
      }
    },
    {
      "cell_type": "markdown",
      "source": [
        "Handling missing vales:\n",
        "\n",
        "intelligent handlng of missing data will result in handling a robust model capable of hadnling complex tasks. there are many ways by which we can handle the missing data in our dataset."
      ],
      "metadata": {
        "id": "jOvm5cPCod45"
      }
    },
    {
      "cell_type": "markdown",
      "source": [
        "1. Removing the Data:\n",
        "\n",
        "checking the missing values is the first and important step in data preprocessing.\n",
        "A model cannot accept the data with mising values , so we delete a row if the missing values corresponds to the place in a row. and w delete a column directly if it has more than 70-75% of the missing data. still the threshold value is not fixed and depend on how much you wish to fix.\n",
        "\n",
        "2. Removing Missing Data:\n",
        "\n",
        "to remove the mising we just directly use isna()function to know the missing values location in our loaded dataframe.\n",
        "then, use dropna() fucntion to remove all the empty cells data and delete them."
      ],
      "metadata": {
        "id": "t2OQJuiGpDSS"
      }
    },
    {
      "cell_type": "markdown",
      "source": [
        "### Mean/ Median / Mode imputation"
      ],
      "metadata": {
        "id": "2mv6SO_cuxNt"
      }
    },
    {
      "cell_type": "markdown",
      "source": [],
      "metadata": {
        "id": "8V8QSvn2u5sF"
      }
    },
    {
      "cell_type": "markdown",
      "source": [
        "We can fill the missing values in Numercial data using mean of the vlaues and that of categorical data using , the mode() function of that value.\n",
        "\n",
        "\n"
      ],
      "metadata": {
        "id": "x9U-edOFwNPU"
      }
    },
    {
      "cell_type": "markdown",
      "source": [
        "### OUTLIERS"
      ],
      "metadata": {
        "id": "3tImyKcuxner"
      }
    },
    {
      "cell_type": "markdown",
      "source": [
        "OUTLIERS are the values that are very small or very big wiht respect to the distribution of other data.\n",
        "\n",
        "we can find outlier in only numerical data. boxplot are the good option to detect and find the outliers in the dataset."
      ],
      "metadata": {
        "id": "gc-11HjcxrNn"
      }
    },
    {
      "cell_type": "code",
      "source": [],
      "metadata": {
        "id": "4dc8IPiRnY2x"
      },
      "execution_count": null,
      "outputs": []
    }
  ]
}